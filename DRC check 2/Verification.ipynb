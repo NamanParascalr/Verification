{
 "cells": [
  {
   "cell_type": "code",
   "execution_count": 41,
   "id": "cb91f143-bef2-4a11-bef5-49ac839eac1f",
   "metadata": {},
   "outputs": [
    {
     "name": "stdout",
     "output_type": "stream",
     "text": [
      "No DRC script found in .lydrc file.\n"
     ]
    }
   ],
   "source": [
    "import pya\n",
    "import xml.etree.ElementTree as ET\n",
    "\n",
    "# ---------------- CONFIGURATION ----------------\n",
    "LYDRC_FILE = \"T1_M0_M1_M2_M3.lydrc\"  # Path to .lydrc file\n",
    "LAYOUT_FILE = \"T1_M0_M1.gds\"   # Path to layout file\n",
    "# -----------------------------------------------\n",
    "\n",
    "def parse_lydrc(lydrc_file):\n",
    "    \"\"\"Parse the .lydrc XML file to extract DRC script.\"\"\"\n",
    "    tree = ET.parse(lydrc_file)\n",
    "    root = tree.getroot()\n",
    "\n",
    "    drc_script = None\n",
    "    for child in root.iter(\"drc_script\"):\n",
    "        drc_script = child.text.strip()\n",
    "        break  # Assuming only one DRC script in the file\n",
    "\n",
    "    return drc_script\n",
    "\n",
    "def run_drc(layout_file, drc_script):\n",
    "    \"\"\"Run DRC verification using KLayout's API and return violations.\"\"\"\n",
    "    if not drc_script:\n",
    "        print(\"No DRC script found in .lydrc file.\")\n",
    "        return\n",
    "\n",
    "    # Load KLayout's application and layout\n",
    "    app = pya.Application.instance()\n",
    "    mw = app.main_window()\n",
    "    ly = pya.Layout()\n",
    "    ly.read(layout_file)\n",
    "\n",
    "    # Create a new DRC run\n",
    "    drc = pya.DRC()\n",
    "    drc.drc_text = drc_script  # Apply extracted DRC script\n",
    "\n",
    "    # Run DRC on the layout\n",
    "    results = drc.run(ly)\n",
    "    violations = results.violations()\n",
    "\n",
    "    print(\"DRC check completed.\")\n",
    "    print(\"Possible violations:\")\n",
    "    for v in violations:\n",
    "        print(f\"Violation at {v}\")\n",
    "\n",
    "if __name__ == \"__main__\":\n",
    "    # Step 1: Extract DRC script from .lydrc\n",
    "    drc_script = parse_lydrc(LYDRC_FILE)\n",
    "\n",
    "    # Step 2: Run DRC on layout file\n",
    "    run_drc(LAYOUT_FILE, drc_script)"
   ]
  },
  {
   "cell_type": "code",
   "execution_count": 2,
   "id": "854e65d1-ef13-4886-bc26-1767142267a7",
   "metadata": {},
   "outputs": [],
   "source": [
    "def extract_drc_rules_from_xml(xml_file):\n",
    "    \"\"\"Extracts DRC rules from an XML file and returns them as a dictionary with layer numbers.\"\"\"\n",
    "    \n",
    "    with open(xml_file, \"r\", encoding=\"utf-8\") as file:\n",
    "        xml_content = file.read()\n",
    "    \n",
    "    # Parse XML and extract text inside <text> tag\n",
    "    root = ET.fromstring(xml_content)\n",
    "    text_content = root.find(\".//text\").text if root.find(\".//text\") is not None else \"\"\n",
    "    \n",
    "    # Extract layer mappings from .lydrc file\n",
    "    layer_mapping = extract_layer_mappings(xml_file)\n",
    "    \n",
    "    return extract_drc_rules(text_content, layer_mapping)"
   ]
  },
  {
   "cell_type": "code",
   "execution_count": 3,
   "id": "dc6ec157-ba81-44aa-a7fd-46808a05b966",
   "metadata": {},
   "outputs": [],
   "source": [
    "def extract_layer_mappings(xml_file):\n",
    "    \"\"\"Extracts layer mappings from .lydrc file (e.g., 'm1' -> '19').\"\"\"\n",
    "    layer_mapping = {}\n",
    "\n",
    "    with open(xml_file, \"r\", encoding=\"utf-8\") as file:\n",
    "        for line in file:\n",
    "            line = line.strip()\n",
    "            if line.startswith(\"m\") and \"=\" in line:\n",
    "                parts = line.split(\"=\")\n",
    "                if len(parts) == 2:\n",
    "                    metal_name = parts[0].strip()\n",
    "                    layer_info = parts[1].strip().replace(\"input(\", \"\").replace(\")\", \"\")\n",
    "                    layer_number = layer_info.split(\",\")[0]  # Extract only the first number\n",
    "                    layer_mapping[metal_name] = layer_number  # Store mapping\n",
    "\n",
    "    print(\"Layer Mapping:\", layer_mapping)  # Debugging\n",
    "    return layer_mapping"
   ]
  },
  {
   "cell_type": "code",
   "execution_count": 4,
   "id": "0da70328-b80e-4a71-90bd-09a72078e46c",
   "metadata": {},
   "outputs": [],
   "source": [
    "def extract_drc_rules(text, layer_mapping):\n",
    "    \"\"\"Extracts DRC rules from text and returns a dictionary of constraints with layer numbers.\"\"\"\n",
    "    \n",
    "    rules = {}\n",
    "\n",
    "    # Regular expressions for different constraints\n",
    "    width_pattern = re.compile(r'(m\\d+)\\.width\\((\\d+\\.\\w+)\\)\\.output\\(\"(.+?)\", \"(.+?)\"\\)')\n",
    "    spacing_pattern = re.compile(r'(m\\d+)\\.space\\((\\d+\\.\\w+).+?\\)\\.output\\(\"(.+?)\", \"(.+?)\"\\)')\n",
    "    area_pattern = re.compile(r'(m\\d+)\\.with_area\\((\\d+\\.\\.+?\\d+)\\)\\.output\\(\"(.+?)\", \"(.+?)\"\\)')\n",
    "    corner_spacing_pattern = re.compile(r'(m\\d+)\\.space\\((\\d+\\.\\w+), euclidian\\).+?\\.output\\(\"(.+?)\", \"(.+?)\"\\)')\n",
    "\n",
    "    # Extract width rules\n",
    "    for match in width_pattern.findall(text):\n",
    "        metal_name = match[0]\n",
    "        layer_number = layer_mapping.get(metal_name, metal_name)  # Convert to layer number\n",
    "        rules.setdefault(layer_number, {})[\"Width\"] = float(match[1].replace(\"nm\", \"\")) / 1000\n",
    "\n",
    "    # Extract spacing rules\n",
    "    for match in spacing_pattern.findall(text):\n",
    "        metal_name = match[0]\n",
    "        layer_number = layer_mapping.get(metal_name, metal_name)\n",
    "        rules.setdefault(layer_number, {})[\"Spacing\"] = float(match[1].replace(\"nm\", \"\")) / 1000\n",
    "\n",
    "    # Extract area rules\n",
    "    for match in area_pattern.findall(text):\n",
    "        metal_name = match[0]\n",
    "        layer_number = layer_mapping.get(metal_name, metal_name)\n",
    "        rules.setdefault(layer_number, {})[\"Area\"] = float(match[1].split(\"..\")[-1])\n",
    "\n",
    "    # Extract corner spacing rules\n",
    "    for match in corner_spacing_pattern.findall(text):\n",
    "        metal_name = match[0]\n",
    "        layer_number = layer_mapping.get(metal_name, metal_name)\n",
    "        rules.setdefault(layer_number, {})[\"Corner Spacing\"] = float(match[1].replace(\"nm\", \"\")) / 1000\n",
    "\n",
    "    print(\"Extracted Rules:\", rules)  # Debugging\n",
    "    return rules"
   ]
  },
  {
   "cell_type": "code",
   "execution_count": 5,
   "id": "dc403b68-3be9-4470-8248-2922682e877e",
   "metadata": {},
   "outputs": [],
   "source": [
    "def load_layout(file_path):\n",
    "    \"\"\"Loads a GDSII layout file and returns the layout object.\"\"\"\n",
    "    return gdspy.GdsLibrary(infile=file_path)"
   ]
  },
  {
   "cell_type": "code",
   "execution_count": 6,
   "id": "4fc6afc5-f188-4fd1-bf52-724cd8127f3c",
   "metadata": {},
   "outputs": [],
   "source": [
    "def calculate_width(polygon):\n",
    "    \"\"\"Calculates the width of a polygon (assuming it's a rectangle).\"\"\"\n",
    "    bounds = polygon.get_bounding_box()\n",
    "    return bounds[1][0] - bounds[0][0] if bounds is not None else None"
   ]
  },
  {
   "cell_type": "code",
   "execution_count": 7,
   "id": "b6752e60-e8af-42d0-b72a-a560d4dcb662",
   "metadata": {},
   "outputs": [],
   "source": [
    "def calculate_area(polygon):\n",
    "    \"\"\"Calculates the area of a polygon.\"\"\"\n",
    "    if not polygon.polygons or len(polygon.polygons) == 0:\n",
    "        return 0\n",
    "    shapely_polygon = ShapelyPolygon(polygon.polygons[0])\n",
    "    return shapely_polygon.area"
   ]
  },
  {
   "cell_type": "code",
   "execution_count": 8,
   "id": "66b53794-07ca-4c3e-9ef8-e21966658af6",
   "metadata": {},
   "outputs": [],
   "source": [
    "def check_spacing(polygon1, polygon2, min_spacing):\n",
    "    \"\"\"Checks if two polygons meet the minimum spacing requirement.\"\"\"\n",
    "    shapely_polygon1 = ShapelyPolygon(polygon1.polygons[0])\n",
    "    shapely_polygon2 = ShapelyPolygon(polygon2.polygons[0])\n",
    "\n",
    "    # Compute minimum distance between polygons\n",
    "    distance = shapely_polygon1.distance(shapely_polygon2)\n",
    "\n",
    "    # Return True if spacing is valid, False otherwise\n",
    "    return distance >= min_spacing"
   ]
  },
  {
   "cell_type": "code",
   "execution_count": 9,
   "id": "43429be7-6685-4997-9955-81bc8355d44f",
   "metadata": {},
   "outputs": [],
   "source": [
    "def min_corner_distance(poly1, poly2):\n",
    "    \"\"\"Computes the minimum distance between the corners (vertices) of two polygons.\"\"\"\n",
    "    coords1 = list(poly1.exterior.coords)\n",
    "    coords2 = list(poly2.exterior.coords)\n",
    "\n",
    "    # Compute pairwise distance between all corners (vertices)\n",
    "    return min(np.linalg.norm(np.array(p1) - np.array(p2)) for p1 in coords1 for p2 in coords2)"
   ]
  },
  {
   "cell_type": "code",
   "execution_count": 32,
   "id": "24a7b9df-2098-4c90-9b0f-2cfd1557eecc",
   "metadata": {},
   "outputs": [],
   "source": [
    "def validate_layer(polygons, layer_rules, layer_number):\n",
    "    violations = []\n",
    "    \n",
    "    min_width = layer_rules[\"min_width\"]\n",
    "    min_area = layer_rules[\"min_area\"]\n",
    "    min_spacing = layer_rules[\"min_spacing\"]\n",
    "    min_corner2corner_spacing = layer_rules[\"min_corner2corner_spacing\"]\n",
    "\n",
    "    print(f\"\\n=== Validating Layer {layer_number} with {len(polygons)} polygons ===\\n\")\n",
    "\n",
    "    # **Width & Area Checks**\n",
    "    for i, polygon in enumerate(polygons):\n",
    "        width = calculate_width(polygon)\n",
    "        area = calculate_area(polygon)\n",
    "\n",
    "        print(f\"Polygon {i} in Layer {layer_number}:\")\n",
    "        print(f\"  width = {width}, type: {type(width)}\")\n",
    "        print(f\"  area = {area}, type: {type(area)}\")\n",
    "        print(f\"  min_width = {min_width}, min_area = {min_area}\")\n",
    "\n",
    "        if width is not None and width < min_width:\n",
    "            violations.append(f\"Layer {layer_number} Violation: Polygon {i} width {width:.6f} < {min_width}\")\n",
    "            print(f\"  ❌ Violation: Width {width:.6f} < {min_width}\")\n",
    "\n",
    "        if area is not None and area < min_area:\n",
    "            violations.append(f\"Layer {layer_number} Violation: Polygon {i} area {area:.6f} < {min_area}\")\n",
    "            print(f\"  ❌ Violation: Area {area:.6f} < {min_area}\")\n",
    "\n",
    "        print(\"-\" * 50)\n",
    "\n",
    "    # **Use R-tree for optimized spacing checks**\n",
    "    rtree_idx = index.Index()\n",
    "    poly_dict = {}  # Store indexed polygons\n",
    "\n",
    "    # Insert polygons into R-tree\n",
    "    for i, poly in enumerate(polygons):\n",
    "        shapely_poly = ShapelyPolygon(poly.polygons[0])\n",
    "        poly_dict[i] = shapely_poly\n",
    "        minx, miny, maxx, maxy = shapely_poly.bounds\n",
    "        rtree_idx.insert(i, (minx, miny, maxx, maxy))\n",
    "\n",
    "    # Check only close neighbors using R-tree\n",
    "    for i, poly1 in poly_dict.items():\n",
    "        minx, miny, maxx, maxy = poly1.bounds\n",
    "\n",
    "        # Query R-tree for nearby polygons\n",
    "        nearby = list(rtree_idx.intersection((minx - min_spacing, miny - min_spacing, \n",
    "                                              maxx + min_spacing, maxy + min_spacing)))\n",
    "\n",
    "        for j in nearby:\n",
    "            if i >= j:  # Avoid duplicate checks\n",
    "                continue\n",
    "\n",
    "            poly2 = poly_dict[j]\n",
    "\n",
    "            # **General Spacing Check**\n",
    "            spacing_violation = poly1.buffer(min_spacing / 2).intersects(poly2.buffer(min_spacing / 2))\n",
    "            min_corner_dist = min_corner_distance(poly1, poly2)\n",
    "\n",
    "            print(f\"Checking Polygon {i} vs Polygon {j} in Layer {layer_number}:\")\n",
    "            print(f\"  min_spacing = {min_spacing}, spacing_violation = {spacing_violation}\")\n",
    "            print(f\"  min_corner_spacing = {min_corner2corner_spacing}, corner_spacing_violation = {min_corner_dist < min_corner2corner_spacing}\")\n",
    "\n",
    "            if spacing_violation:\n",
    "                violations.append(f\"Layer {layer_number} Violation: Polygon {i} and {j} spacing < {min_spacing}\")\n",
    "                print(f\"  ❌ Violation: Polygon {i} and {j} spacing < {min_spacing}\")\n",
    "\n",
    "            # **Corner-to-Corner Spacing Check**\n",
    "            if min_corner_dist < min_corner2corner_spacing:\n",
    "                violations.append(f\"Layer {layer_number} Violation: Polygon {i} and {j} corner spacing {min_corner_dist:.6f} < {min_corner2corner_spacing}\")\n",
    "                print(f\"  ❌ Violation: Corner spacing {min_corner_dist:.6f} < {min_corner2corner_spacing}\")\n",
    "\n",
    "            print(\"-\" * 50)\n",
    "\n",
    "    return violations"
   ]
  },
  {
   "cell_type": "code",
   "execution_count": 33,
   "id": "12eea7ea-2b70-4f06-8fe9-0a9d4b43caa0",
   "metadata": {},
   "outputs": [],
   "source": [
    "def validate_layout(layout, constraints):\n",
    "    \"\"\"Validates an entire layout against given constraints and returns a list of violations.\"\"\"\n",
    "    violations = []\n",
    "\n",
    "    for cell in layout.cells.values():\n",
    "        print(cell)\n",
    "        layer_polygons = {}\n",
    "\n",
    "        for polygon in cell.polygons:\n",
    "            layer = polygon.layers[0]\n",
    "            layer_polygons.setdefault(layer, []).append(polygon)\n",
    "        \n",
    "        for layer, polygons in layer_polygons.items():\n",
    "            layer_str = str(layer)  # Convert layer number to string\n",
    "            layer_rules = constraints.get(layer_str, {})\n",
    "            if not layer_rules:  # Debugging missing layers\n",
    "                print(f\"WARNING: No constraints found for layer {layer_str} (from GDS file)\")\n",
    "\n",
    "            violations.extend(validate_layer(polygons, layer_rules, layer_str))\n",
    "\n",
    "    return violations"
   ]
  },
  {
   "cell_type": "code",
   "execution_count": 34,
   "id": "0f45847a-1dfa-4e0d-a41c-6931c4b1e85f",
   "metadata": {},
   "outputs": [],
   "source": [
    "def report_violations(violations):\n",
    "    \"\"\"Prints the list of DRC violations.\"\"\"\n",
    "    if violations:\n",
    "        print(\"DRC Violations Found:\")\n",
    "        for violation in violations:\n",
    "            print(violation)\n",
    "    else:\n",
    "        print(\"Valid Layout: No DRC Errors.\")"
   ]
  },
  {
   "cell_type": "code",
   "execution_count": 36,
   "id": "d6f2ee71-ce93-4620-b89f-3bec7ced3997",
   "metadata": {},
   "outputs": [
    {
     "name": "stdout",
     "output_type": "stream",
     "text": [
      "Layer Mapping: {'m0': '15', 'm1': '19', 'm2': '20', 'm3': '30'}\n",
      "Extracted Rules: {'15': {'Width': 0.018, 'Spacing': 0.02, 'Corner Spacing': 0.02}, '19': {'Width': 0.018, 'Spacing': 0.02, 'Corner Spacing': 0.02}, '20': {'Width': 0.018, 'Spacing': 0.02, 'Corner Spacing': 0.02}, '30': {'Width': 0.018, 'Spacing': 0.02, 'Corner Spacing': 0.02}}\n",
      "Cell (\"INV_X1_6T_2F_45CPP_24M0P_30M1P_24M2P_2MPO_EL_M0\", 7 polygons, 0 paths, 0 labels, 0 references)\n"
     ]
    },
    {
     "ename": "KeyError",
     "evalue": "'min_width'",
     "output_type": "error",
     "traceback": [
      "\u001b[0;31m---------------------------------------------------------------------------\u001b[0m",
      "\u001b[0;31mKeyError\u001b[0m                                  Traceback (most recent call last)",
      "Cell \u001b[0;32mIn[36], line 14\u001b[0m\n\u001b[1;32m     10\u001b[0m         \u001b[38;5;28mprint\u001b[39m(\u001b[38;5;124m\"\u001b[39m\u001b[38;5;124mLayout is valid!\u001b[39m\u001b[38;5;124m\"\u001b[39m)\n\u001b[1;32m     13\u001b[0m \u001b[38;5;28;01mif\u001b[39;00m \u001b[38;5;18m__name__\u001b[39m \u001b[38;5;241m==\u001b[39m \u001b[38;5;124m\"\u001b[39m\u001b[38;5;124m__main__\u001b[39m\u001b[38;5;124m\"\u001b[39m:\n\u001b[0;32m---> 14\u001b[0m     \u001b[43mmain\u001b[49m\u001b[43m(\u001b[49m\u001b[38;5;124;43m\"\u001b[39;49m\u001b[38;5;124;43mT1_M0_M1_M2_M3.lydrc\u001b[39;49m\u001b[38;5;124;43m\"\u001b[39;49m\u001b[43m,\u001b[49m\u001b[43m \u001b[49m\u001b[38;5;124;43m\"\u001b[39;49m\u001b[38;5;124;43mT1_M0_M1.gds\u001b[39;49m\u001b[38;5;124;43m\"\u001b[39;49m\u001b[43m)\u001b[49m\n\u001b[1;32m     15\u001b[0m     \u001b[38;5;28mprint\u001b[39m(\u001b[38;5;124m\"\u001b[39m\u001b[38;5;124mEnd of file 1\u001b[39m\u001b[38;5;124m\"\u001b[39m)\n",
      "Cell \u001b[0;32mIn[36], line 5\u001b[0m, in \u001b[0;36mmain\u001b[0;34m(lydrc_file, layout_file)\u001b[0m\n\u001b[1;32m      3\u001b[0m layout \u001b[38;5;241m=\u001b[39m load_layout(layout_file)  \u001b[38;5;66;03m# Load the GDSII layout\u001b[39;00m\n\u001b[1;32m      4\u001b[0m constraints \u001b[38;5;241m=\u001b[39m extract_drc_rules_from_xml(lydrc_file)  \n\u001b[0;32m----> 5\u001b[0m violations \u001b[38;5;241m=\u001b[39m \u001b[43mvalidate_layout\u001b[49m\u001b[43m(\u001b[49m\u001b[43mlayout\u001b[49m\u001b[43m,\u001b[49m\u001b[43m \u001b[49m\u001b[43mconstraints\u001b[49m\u001b[43m)\u001b[49m  \u001b[38;5;66;03m# Validate layout\u001b[39;00m\n\u001b[1;32m      7\u001b[0m \u001b[38;5;28;01mif\u001b[39;00m violations:\n\u001b[1;32m      8\u001b[0m     \u001b[38;5;28mprint\u001b[39m(\u001b[38;5;124m\"\u001b[39m\u001b[38;5;130;01m\\n\u001b[39;00m\u001b[38;5;124m\"\u001b[39m\u001b[38;5;241m.\u001b[39mjoin(violations))\n",
      "Cell \u001b[0;32mIn[33], line 19\u001b[0m, in \u001b[0;36mvalidate_layout\u001b[0;34m(layout, constraints)\u001b[0m\n\u001b[1;32m     16\u001b[0m         \u001b[38;5;28;01mif\u001b[39;00m \u001b[38;5;129;01mnot\u001b[39;00m layer_rules:  \u001b[38;5;66;03m# Debugging missing layers\u001b[39;00m\n\u001b[1;32m     17\u001b[0m             \u001b[38;5;28mprint\u001b[39m(\u001b[38;5;124mf\u001b[39m\u001b[38;5;124m\"\u001b[39m\u001b[38;5;124mWARNING: No constraints found for layer \u001b[39m\u001b[38;5;132;01m{\u001b[39;00mlayer_str\u001b[38;5;132;01m}\u001b[39;00m\u001b[38;5;124m (from GDS file)\u001b[39m\u001b[38;5;124m\"\u001b[39m)\n\u001b[0;32m---> 19\u001b[0m         violations\u001b[38;5;241m.\u001b[39mextend(\u001b[43mvalidate_layer\u001b[49m\u001b[43m(\u001b[49m\u001b[43mpolygons\u001b[49m\u001b[43m,\u001b[49m\u001b[43m \u001b[49m\u001b[43mlayer_rules\u001b[49m\u001b[43m,\u001b[49m\u001b[43m \u001b[49m\u001b[43mlayer_str\u001b[49m\u001b[43m)\u001b[49m)\n\u001b[1;32m     21\u001b[0m \u001b[38;5;28;01mreturn\u001b[39;00m violations\n",
      "Cell \u001b[0;32mIn[32], line 4\u001b[0m, in \u001b[0;36mvalidate_layer\u001b[0;34m(polygons, layer_rules, layer_number)\u001b[0m\n\u001b[1;32m      1\u001b[0m \u001b[38;5;28;01mdef\u001b[39;00m\u001b[38;5;250m \u001b[39m\u001b[38;5;21mvalidate_layer\u001b[39m(polygons, layer_rules, layer_number):\n\u001b[1;32m      2\u001b[0m     violations \u001b[38;5;241m=\u001b[39m []\n\u001b[0;32m----> 4\u001b[0m     min_width \u001b[38;5;241m=\u001b[39m \u001b[43mlayer_rules\u001b[49m\u001b[43m[\u001b[49m\u001b[38;5;124;43m\"\u001b[39;49m\u001b[38;5;124;43mmin_width\u001b[39;49m\u001b[38;5;124;43m\"\u001b[39;49m\u001b[43m]\u001b[49m\n\u001b[1;32m      5\u001b[0m     min_area \u001b[38;5;241m=\u001b[39m layer_rules[\u001b[38;5;124m\"\u001b[39m\u001b[38;5;124mmin_area\u001b[39m\u001b[38;5;124m\"\u001b[39m]\n\u001b[1;32m      6\u001b[0m     min_spacing \u001b[38;5;241m=\u001b[39m layer_rules[\u001b[38;5;124m\"\u001b[39m\u001b[38;5;124mmin_spacing\u001b[39m\u001b[38;5;124m\"\u001b[39m]\n",
      "\u001b[0;31mKeyError\u001b[0m: 'min_width'"
     ]
    }
   ],
   "source": [
    "def main(lydrc_file, layout_file):\n",
    "    \"\"\"Main function to perform DRC validation.\"\"\"\n",
    "    layout = load_layout(layout_file)  # Load the GDSII layout\n",
    "    constraints = extract_drc_rules_from_xml(lydrc_file)  \n",
    "    violations = validate_layout(layout, constraints)  # Validate layout\n",
    "\n",
    "    if violations:\n",
    "        print(\"\\n\".join(violations))\n",
    "    else:\n",
    "        print(\"Layout is valid!\")\n",
    "\n",
    "\n",
    "if __name__ == \"__main__\":\n",
    "    main(\"T1_M0_M1_M2_M3.lydrc\", \"T1_M0_M1.gds\")\n",
    "    print(\"End of file 1\")"
   ]
  },
  {
   "cell_type": "code",
   "execution_count": 39,
   "id": "7d45a5d8-5bd8-4b6c-89b5-fc6df70bb886",
   "metadata": {},
   "outputs": [
    {
     "name": "stdout",
     "output_type": "stream",
     "text": [
      "[NbConvertApp] Converting notebook Verification.ipynb to script\n",
      "[NbConvertApp] Writing 9908 bytes to Verification.py\n"
     ]
    }
   ],
   "source": [
    "!jupyter nbconvert --to script Verification.ipynb\n"
   ]
  },
  {
   "cell_type": "code",
   "execution_count": null,
   "id": "8ae618e3-f9a7-4857-b9b0-bbf9bb014b4c",
   "metadata": {},
   "outputs": [],
   "source": []
  }
 ],
 "metadata": {
  "kernelspec": {
   "display_name": "Python 3 (ipykernel)",
   "language": "python",
   "name": "python3"
  },
  "language_info": {
   "codemirror_mode": {
    "name": "ipython",
    "version": 3
   },
   "file_extension": ".py",
   "mimetype": "text/x-python",
   "name": "python",
   "nbconvert_exporter": "python",
   "pygments_lexer": "ipython3",
   "version": "3.10.12"
  }
 },
 "nbformat": 4,
 "nbformat_minor": 5
}
